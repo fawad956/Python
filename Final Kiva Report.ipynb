{
 "cells": [
  {
   "cell_type": "markdown",
   "metadata": {},
   "source": [
    "# BCIS 5110 \n",
    "# KIVA PROJECT REPORT\n",
    "SUBMITTED BY:\n",
    "#FAWAD KHAN \n",
    "\n",
    "## Executive Summary\n",
    "Everyone should have the opportunity to be funded in a free market economy, but, there are more restrictions than one might expect. However, some countries also lack the infrastructure needed to support small company financing. \n",
    "These constraints give rise to a microlending market. Microlending has exploded across the world, assisting in the adoption of capitalism as the normal economic system in a more globalized society.\n",
    "\n",
    "Kiva.org is an online crowdfunding platform that offers monetary services to needful and people with insufficient funds around the world. Kiva lenders have extended over 1 billion dollars in loans to around 2 million people across the world. \n",
    "Knowing the level of poverty of each borrower is crucial to setting investment priorities, helping lenders make informed decisions and understanding their target communities. However, this requires inference based on a limited number of details about each borrower.\n",
    "\n",
    "We analyzed data utilizing Python hosted on Jupyter Notebooks-based workbench to assist Kiva in building an accurate and localized model to estimate the poverty levels of people based on the location of active Kiva loans.\n",
    "Furthermore, we are attempting to use all the relevant information about a Kiva borrower in order to estimate a borrower's welfare level using regional averages by gender, sector, or borrowing behavior.\n",
    "\n",
    "## Project Motivation/Background\n",
    "\n",
    "Project Background and Motivation\n",
    "Kiva is a non-profit organization based in San Francisco, California, allows people to lend money to low-income entrepreneurs and students in 77 countries. \n",
    "\n",
    "Kiva's mission is to \"enhance the financial inclusion of underserved communities.\" As of 2005, Kiva has funded 1.6 million loans totaling more than $1.33 billion, with a repayment rate of 95.8%. \n",
    "\n",
    "The Kiva platform is used by more than 1.8 million lenders worldwide.\n",
    "\n",
    "Loan lenders do not receive interest on loans. Kiva offers lenders a way to connect with borrowers on a human level by including stories about the people who apply for loans.\n",
    "\n",
    "As part of Kiva's field partner network, which can include microfinance institutions, social impact businesses, schools or non-profit organizations, loans are administered on the ground through these partners. \n",
    "Kiva's users, corporations, and national institutions provide grants, loans, and donations to help support its operations. The majority of loans to its field partners carry interest, and Kiva charges small fees to its field partners.\n",
    "\n",
    "## Data Description\n",
    "\n",
    "A random sample of 5,000 Kiva loans and associated repayment plans are included in the data collection. We have 3 datasets that are used for this project which are listed as follows:\n",
    "\n",
    "Lender dataset: This data gives us the information about the lender’s name, location, occupation etc.<br>\n",
    "Loan Lenders dataset: This data gives us the information about the financial institution that makes the funds available to lender.<br>\n",
    "Loan dataset: This data gives us the information about the loan, reason for the loan and the status of loan etc.<br>\n",
    "Below is the list of variables given in our dataset and their definitions:<br>\n",
    "id: Loan ID<br>\n",
    "status: Loan status with different levels through which loan is processed by Kiva.<br>\n",
    "funded_amount: Amount of loan which has been purchased by Kiva lenders<br>\n",
    "paid_amount: Amount of the loan which has been paid off<br>\n",
    "activity: Activity for which loan is requested<br>\n",
    "sector: Sector for which loan is requested<br>\n",
    "location.country_code: Country code<br>\n",
    "location.country: Country name<br>\n",
    "location.town: Town name<br>\n",
    "partner_id: Field partner ID for local lending institutions, see a complete list at http://api.kivaws.org/v1/partners.json <br>\n",
    "borrowers.first_name: First name of borrower<br>\n",
    "borrowers.last_name: Last name of borrower<br>\n",
    "borrowers.gender: Gender of borrower<br>\n",
    "disbursal_amount: The amount of money distributed to the borrower in the local currency. Comparing this amount to the loan amount shows the currency conversion rate locked in for the loan when it was posted.<br>\n",
    "disbursal_currency: Currency used to distribute the loan the borrower. This is usually the local currency for the borrower's country.<br>\n",
    "terms.disbursal_date: The date at which the funds from the loan were given to the borrowers. Note that it is possible for the money to be disbursed to borrowers before the loan is posted on Kiva.<br>\n",
    "loan_amount: The amount of money distributed to the borrower in lender's currency.<br>\n",
    "posted_date: Date when loan was posted on Kiva.<br>\n",
    "funded_date: Date when loan was fully funded on Kiva.<br>\n",
    "terms.local_payments.due_date: Date when payment is due to the field partner<br>\n",
    "terms.local_payments.amount: Amount (in local currency) due to the field partner<br>\n",
    "terms.scheduled_payments.due_date: Date when payment is due to the lender<br>\n",
    "amount: Payment amount in US dollars<br>\n",
    "payment_id: Payment ID<br>\n",
    "local_amount: Payment amount in local currency<br>\n",
    "processed_date: Date payment is processed<br>\n",
    "lat: Latitude of loan location<br>\n",
    "lon: Longitude of loan location <br>\n"
   ]
  },
  {
   "cell_type": "markdown",
   "metadata": {},
   "source": [
    "## Data Analysis\n",
    "## In this assignment, we start to work on Kiva datasets."
   ]
  },
  {
   "cell_type": "code",
   "execution_count": 12,
   "metadata": {},
   "outputs": [],
   "source": [
    "# By default, when you run each cell, only the last output of the codes will show.\n",
    "# This code makes all outputs of a cell show.\n",
    "from IPython.core.interactiveshell import InteractiveShell\n",
    "InteractiveShell.ast_node_interactivity = \"all\""
   ]
  },
  {
   "cell_type": "code",
   "execution_count": 13,
   "metadata": {},
   "outputs": [],
   "source": [
    "#Import the library\n",
    "import pandas as pd\n",
    "import numpy as np"
   ]
  },
  {
   "cell_type": "markdown",
   "metadata": {},
   "source": [
    "1. Read in the three tables (the original dataset you downloaded, not the sample I provided for your initial report.)"
   ]
  },
  {
   "cell_type": "code",
   "execution_count": 14,
   "metadata": {},
   "outputs": [],
   "source": [
    "#Read the tables\n",
    "loans = pd.read_csv('C:/Users/fawad/OneDrive/Desktop/MBA/Python/loans.csv')\n",
    "lenders = pd.read_csv('C:/Users/fawad/OneDrive/Desktop/MBA/Python/lenders.csv')\n",
    "loans_lenders = pd.read_csv('C:/Users/fawad/OneDrive/Desktop/MBA/Python/loans_lenders.csv')"
   ]
  },
  {
   "cell_type": "markdown",
   "metadata": {},
   "source": [
    "2. Display the information about each dataframe."
   ]
  },
  {
   "cell_type": "code",
   "execution_count": 49,
   "metadata": {},
   "outputs": [
    {
     "name": "stdout",
     "output_type": "stream",
     "text": [
      "<class 'pandas.core.frame.DataFrame'>\n",
      "RangeIndex: 20872 entries, 0 to 20871\n",
      "Data columns (total 34 columns):\n",
      " #   Column                           Non-Null Count  Dtype  \n",
      "---  ------                           --------------  -----  \n",
      " 0   LOAN_ID                          20872 non-null  int64  \n",
      " 1   LOAN_NAME                        20371 non-null  object \n",
      " 2   ORIGINAL_LANGUAGE                20416 non-null  object \n",
      " 3   DESCRIPTION                      20416 non-null  object \n",
      " 4   DESCRIPTION_TRANSLATED           16314 non-null  object \n",
      " 5   FUNDED_AMOUNT                    20872 non-null  float64\n",
      " 6   LOAN_AMOUNT                      20872 non-null  float64\n",
      " 7   STATUS                           20872 non-null  object \n",
      " 8   IMAGE_ID                         20416 non-null  float64\n",
      " 9   VIDEO_ID                         13 non-null     float64\n",
      " 10  ACTIVITY_NAME                    20872 non-null  object \n",
      " 11  SECTOR_NAME                      20872 non-null  object \n",
      " 12  LOAN_USE                         20416 non-null  object \n",
      " 13  COUNTRY_CODE                     20872 non-null  object \n",
      " 14  COUNTRY_NAME                     20872 non-null  object \n",
      " 15  TOWN_NAME                        19099 non-null  object \n",
      " 16  CURRENCY_POLICY                  20872 non-null  object \n",
      " 17  CURRENCY_EXCHANGE_COVERAGE_RATE  16153 non-null  float64\n",
      " 18  CURRENCY                         20872 non-null  object \n",
      " 19  PARTNER_ID                       20668 non-null  float64\n",
      " 20  POSTED_TIME                      20872 non-null  object \n",
      " 21  PLANNED_EXPIRATION_TIME          17213 non-null  object \n",
      " 22  DISBURSE_TIME                    20838 non-null  object \n",
      " 23  RAISED_TIME                      19838 non-null  object \n",
      " 24  LENDER_TERM                      20872 non-null  float64\n",
      " 25  NUM_LENDERS_TOTAL                20872 non-null  int64  \n",
      " 26  NUM_JOURNAL_ENTRIES              20872 non-null  int64  \n",
      " 27  NUM_BULK_ENTRIES                 20872 non-null  int64  \n",
      " 28  TAGS                             11519 non-null  object \n",
      " 29  BORROWER_NAMES                   20371 non-null  object \n",
      " 30  BORROWER_GENDERS                 20416 non-null  object \n",
      " 31  BORROWER_PICTURED                20416 non-null  object \n",
      " 32  REPAYMENT_INTERVAL               20872 non-null  object \n",
      " 33  DISTRIBUTION_MODEL               20872 non-null  object \n",
      "dtypes: float64(7), int64(4), object(23)\n",
      "memory usage: 5.4+ MB\n",
      "<class 'pandas.core.frame.DataFrame'>\n",
      "RangeIndex: 15615 entries, 0 to 15614\n",
      "Data columns (total 14 columns):\n",
      " #   Column             Non-Null Count  Dtype  \n",
      "---  ------             --------------  -----  \n",
      " 0   PERMANENT_NAME     15615 non-null  object \n",
      " 1   DISPLAY_NAME       15606 non-null  object \n",
      " 2   MAIN_PIC_ID        5177 non-null   float64\n",
      " 3   CITY               5471 non-null   object \n",
      " 4   STATE              5054 non-null   object \n",
      " 5   COUNTRY_CODE       6622 non-null   object \n",
      " 6   MEMBER_SINCE       15615 non-null  int64  \n",
      " 7   PERSONAL_URL       527 non-null    object \n",
      " 8   OCCUPATION         3427 non-null   object \n",
      " 9   LOAN_BECAUSE       1534 non-null   object \n",
      " 10  OTHER_INFO         930 non-null    object \n",
      " 11  LOAN_PURCHASE_NUM  15615 non-null  int64  \n",
      " 12  INVITED_BY         4092 non-null   object \n",
      " 13  NUM_INVITED        15615 non-null  int64  \n",
      "dtypes: float64(1), int64(3), object(10)\n",
      "memory usage: 1.7+ MB\n",
      "<class 'pandas.core.frame.DataFrame'>\n",
      "RangeIndex: 20342 entries, 0 to 20341\n",
      "Data columns (total 2 columns):\n",
      " #   Column   Non-Null Count  Dtype \n",
      "---  ------   --------------  ----- \n",
      " 0   LOAN_ID  20342 non-null  int64 \n",
      " 1   LENDERS  20342 non-null  object\n",
      "dtypes: int64(1), object(1)\n",
      "memory usage: 318.0+ KB\n"
     ]
    }
   ],
   "source": [
    "#display information about the dataframe\n",
    "loans.info()\n",
    "lenders.info()\n",
    "loans_lenders.info()"
   ]
  },
  {
   "cell_type": "markdown",
   "metadata": {},
   "source": [
    "3. Check for missing values of the loans dataframe. You can use sum() to find out the number of missing values."
   ]
  },
  {
   "cell_type": "code",
   "execution_count": 50,
   "metadata": {},
   "outputs": [
    {
     "data": {
      "text/plain": [
       "LOAN_ID                                0\n",
       "LOAN_NAME                            501\n",
       "ORIGINAL_LANGUAGE                    456\n",
       "DESCRIPTION                          456\n",
       "DESCRIPTION_TRANSLATED              4558\n",
       "FUNDED_AMOUNT                          0\n",
       "LOAN_AMOUNT                            0\n",
       "STATUS                                 0\n",
       "IMAGE_ID                             456\n",
       "VIDEO_ID                           20859\n",
       "ACTIVITY_NAME                          0\n",
       "SECTOR_NAME                            0\n",
       "LOAN_USE                             456\n",
       "COUNTRY_CODE                           0\n",
       "COUNTRY_NAME                           0\n",
       "TOWN_NAME                           1773\n",
       "CURRENCY_POLICY                        0\n",
       "CURRENCY_EXCHANGE_COVERAGE_RATE     4719\n",
       "CURRENCY                               0\n",
       "PARTNER_ID                           204\n",
       "POSTED_TIME                            0\n",
       "PLANNED_EXPIRATION_TIME             3659\n",
       "DISBURSE_TIME                         34\n",
       "RAISED_TIME                         1034\n",
       "LENDER_TERM                            0\n",
       "NUM_LENDERS_TOTAL                      0\n",
       "NUM_JOURNAL_ENTRIES                    0\n",
       "NUM_BULK_ENTRIES                       0\n",
       "TAGS                                9353\n",
       "BORROWER_NAMES                       501\n",
       "BORROWER_GENDERS                     456\n",
       "BORROWER_PICTURED                    456\n",
       "REPAYMENT_INTERVAL                     0\n",
       "DISTRIBUTION_MODEL                     0\n",
       "dtype: int64"
      ]
     },
     "execution_count": 50,
     "metadata": {},
     "output_type": "execute_result"
    }
   ],
   "source": [
    "loans.isnull().sum()\n",
    "# number of missing values in each column of loans dataframe"
   ]
  },
  {
   "cell_type": "markdown",
   "metadata": {},
   "source": [
    "4. First, we check the dependent variable 'STATUS' in the loans dataframe. How many unique values?"
   ]
  },
  {
   "cell_type": "code",
   "execution_count": 15,
   "metadata": {},
   "outputs": [
    {
     "data": {
      "text/plain": [
       "array(['funded', 'expired', 'refunded', 'fundRaising'], dtype=object)"
      ]
     },
     "execution_count": 15,
     "metadata": {},
     "output_type": "execute_result"
    }
   ],
   "source": [
    "# number of unique values in STATUS column of loans dataframe\n",
    "loans['STATUS'].unique()"
   ]
  },
  {
   "cell_type": "markdown",
   "metadata": {},
   "source": [
    "5. How many observations for each category of 'STATUS'? (Which function we have learned can do that?)"
   ]
  },
  {
   "cell_type": "code",
   "execution_count": 52,
   "metadata": {},
   "outputs": [
    {
     "data": {
      "text/plain": [
       "funded         19779\n",
       "expired          931\n",
       "refunded          85\n",
       "fundRaising       77\n",
       "Name: STATUS, dtype: int64"
      ]
     },
     "execution_count": 52,
     "metadata": {},
     "output_type": "execute_result"
    }
   ],
   "source": [
    "loans['STATUS'].value_counts()"
   ]
  },
  {
   "cell_type": "markdown",
   "metadata": {},
   "source": [
    "6. Our purpose is to build a model that predicts whether a loan can get funded based on loan features. So, which suggests the loan is funded? Which not? Which should we ignore?<br>\n",
    "1) Delete the records with the category we can ignore.<br>\n",
    "2) Recode the three categories to two categories (funded, notfunded)<br>\n",
    "The recoded variable will be our target variable."
   ]
  },
  {
   "cell_type": "code",
   "execution_count": 16,
   "metadata": {},
   "outputs": [
    {
     "data": {
      "text/plain": [
       "array(['funded', 'expired', 'refunded'], dtype=object)"
      ]
     },
     "execution_count": 16,
     "metadata": {},
     "output_type": "execute_result"
    }
   ],
   "source": [
    "completedLoans = loans['STATUS'] != 'fundRaising'\n",
    "loans = loans[completedLoans]\n",
    "loans['STATUS'].unique()"
   ]
  },
  {
   "cell_type": "code",
   "execution_count": 18,
   "metadata": {},
   "outputs": [
    {
     "data": {
      "text/plain": [
       "array(['funded', 'notfunded'], dtype=object)"
      ]
     },
     "execution_count": 18,
     "metadata": {},
     "output_type": "execute_result"
    },
    {
     "data": {
      "text/html": [
       "<div>\n",
       "<style scoped>\n",
       "    .dataframe tbody tr th:only-of-type {\n",
       "        vertical-align: middle;\n",
       "    }\n",
       "\n",
       "    .dataframe tbody tr th {\n",
       "        vertical-align: top;\n",
       "    }\n",
       "\n",
       "    .dataframe thead th {\n",
       "        text-align: right;\n",
       "    }\n",
       "</style>\n",
       "<table border=\"1\" class=\"dataframe\">\n",
       "  <thead>\n",
       "    <tr style=\"text-align: right;\">\n",
       "      <th></th>\n",
       "      <th>LOAN_ID</th>\n",
       "      <th>LOAN_NAME</th>\n",
       "      <th>ORIGINAL_LANGUAGE</th>\n",
       "      <th>DESCRIPTION</th>\n",
       "      <th>DESCRIPTION_TRANSLATED</th>\n",
       "      <th>FUNDED_AMOUNT</th>\n",
       "      <th>LOAN_AMOUNT</th>\n",
       "      <th>STATUS</th>\n",
       "      <th>IMAGE_ID</th>\n",
       "      <th>VIDEO_ID</th>\n",
       "      <th>...</th>\n",
       "      <th>LENDER_TERM</th>\n",
       "      <th>NUM_LENDERS_TOTAL</th>\n",
       "      <th>NUM_JOURNAL_ENTRIES</th>\n",
       "      <th>NUM_BULK_ENTRIES</th>\n",
       "      <th>TAGS</th>\n",
       "      <th>BORROWER_NAMES</th>\n",
       "      <th>BORROWER_GENDERS</th>\n",
       "      <th>BORROWER_PICTURED</th>\n",
       "      <th>REPAYMENT_INTERVAL</th>\n",
       "      <th>DISTRIBUTION_MODEL</th>\n",
       "    </tr>\n",
       "  </thead>\n",
       "  <tbody>\n",
       "    <tr>\n",
       "      <th>0</th>\n",
       "      <td>1570258</td>\n",
       "      <td>Manvel</td>\n",
       "      <td>English</td>\n",
       "      <td>Meet Manvel, a young and inspiring farmer from...</td>\n",
       "      <td>Meet Manvel, a young and inspiring farmer from...</td>\n",
       "      <td>2500.0</td>\n",
       "      <td>2500.0</td>\n",
       "      <td>funded</td>\n",
       "      <td>2900454.0</td>\n",
       "      <td>NaN</td>\n",
       "      <td>...</td>\n",
       "      <td>30.0</td>\n",
       "      <td>81</td>\n",
       "      <td>1</td>\n",
       "      <td>1</td>\n",
       "      <td>#Biz Durable Asset, #Single, user_favorite, #S...</td>\n",
       "      <td>Manvel</td>\n",
       "      <td>male</td>\n",
       "      <td>true</td>\n",
       "      <td>irregular</td>\n",
       "      <td>field_partner</td>\n",
       "    </tr>\n",
       "    <tr>\n",
       "      <th>1</th>\n",
       "      <td>240272</td>\n",
       "      <td>Jargalsaihan</td>\n",
       "      <td>English</td>\n",
       "      <td>Jargalsaihan D. is 42 years old and lives with...</td>\n",
       "      <td>NaN</td>\n",
       "      <td>1250.0</td>\n",
       "      <td>1250.0</td>\n",
       "      <td>funded</td>\n",
       "      <td>621951.0</td>\n",
       "      <td>NaN</td>\n",
       "      <td>...</td>\n",
       "      <td>26.0</td>\n",
       "      <td>38</td>\n",
       "      <td>3</td>\n",
       "      <td>2</td>\n",
       "      <td>NaN</td>\n",
       "      <td>Jargalsaihan</td>\n",
       "      <td>male</td>\n",
       "      <td>true</td>\n",
       "      <td>monthly</td>\n",
       "      <td>field_partner</td>\n",
       "    </tr>\n",
       "    <tr>\n",
       "      <th>2</th>\n",
       "      <td>270125</td>\n",
       "      <td>SERGIO</td>\n",
       "      <td>Spanish</td>\n",
       "      <td>Sergio, reside en Lolotique departamento de Sa...</td>\n",
       "      <td>Sergio lives in Lolotique in the department of...</td>\n",
       "      <td>1000.0</td>\n",
       "      <td>1000.0</td>\n",
       "      <td>funded</td>\n",
       "      <td>704953.0</td>\n",
       "      <td>NaN</td>\n",
       "      <td>...</td>\n",
       "      <td>20.0</td>\n",
       "      <td>35</td>\n",
       "      <td>1</td>\n",
       "      <td>1</td>\n",
       "      <td>NaN</td>\n",
       "      <td>SERGIO</td>\n",
       "      <td>male</td>\n",
       "      <td>true</td>\n",
       "      <td>monthly</td>\n",
       "      <td>field_partner</td>\n",
       "    </tr>\n",
       "    <tr>\n",
       "      <th>3</th>\n",
       "      <td>709842</td>\n",
       "      <td>Ahmad</td>\n",
       "      <td>English</td>\n",
       "      <td>Ahmad is a 25–year-old single man, and is the ...</td>\n",
       "      <td>Ahmad is a 25–year-old single man, and is the ...</td>\n",
       "      <td>2000.0</td>\n",
       "      <td>2000.0</td>\n",
       "      <td>funded</td>\n",
       "      <td>1604084.0</td>\n",
       "      <td>NaN</td>\n",
       "      <td>...</td>\n",
       "      <td>14.0</td>\n",
       "      <td>37</td>\n",
       "      <td>2</td>\n",
       "      <td>1</td>\n",
       "      <td>user_favorite</td>\n",
       "      <td>Ahmad</td>\n",
       "      <td>male</td>\n",
       "      <td>true</td>\n",
       "      <td>monthly</td>\n",
       "      <td>field_partner</td>\n",
       "    </tr>\n",
       "    <tr>\n",
       "      <th>4</th>\n",
       "      <td>223631</td>\n",
       "      <td>Patricia</td>\n",
       "      <td>English</td>\n",
       "      <td>Patricia is 25 years old and her husband is a ...</td>\n",
       "      <td>NaN</td>\n",
       "      <td>525.0</td>\n",
       "      <td>525.0</td>\n",
       "      <td>funded</td>\n",
       "      <td>585526.0</td>\n",
       "      <td>NaN</td>\n",
       "      <td>...</td>\n",
       "      <td>6.0</td>\n",
       "      <td>11</td>\n",
       "      <td>1</td>\n",
       "      <td>1</td>\n",
       "      <td>NaN</td>\n",
       "      <td>Patricia</td>\n",
       "      <td>female</td>\n",
       "      <td>true</td>\n",
       "      <td>monthly</td>\n",
       "      <td>field_partner</td>\n",
       "    </tr>\n",
       "  </tbody>\n",
       "</table>\n",
       "<p>5 rows × 34 columns</p>\n",
       "</div>"
      ],
      "text/plain": [
       "   LOAN_ID     LOAN_NAME ORIGINAL_LANGUAGE  \\\n",
       "0  1570258        Manvel           English   \n",
       "1   240272  Jargalsaihan           English   \n",
       "2   270125        SERGIO           Spanish   \n",
       "3   709842         Ahmad           English   \n",
       "4   223631      Patricia           English   \n",
       "\n",
       "                                         DESCRIPTION  \\\n",
       "0  Meet Manvel, a young and inspiring farmer from...   \n",
       "1  Jargalsaihan D. is 42 years old and lives with...   \n",
       "2  Sergio, reside en Lolotique departamento de Sa...   \n",
       "3  Ahmad is a 25–year-old single man, and is the ...   \n",
       "4  Patricia is 25 years old and her husband is a ...   \n",
       "\n",
       "                              DESCRIPTION_TRANSLATED  FUNDED_AMOUNT  \\\n",
       "0  Meet Manvel, a young and inspiring farmer from...         2500.0   \n",
       "1                                                NaN         1250.0   \n",
       "2  Sergio lives in Lolotique in the department of...         1000.0   \n",
       "3  Ahmad is a 25–year-old single man, and is the ...         2000.0   \n",
       "4                                                NaN          525.0   \n",
       "\n",
       "   LOAN_AMOUNT  STATUS   IMAGE_ID  VIDEO_ID  ... LENDER_TERM  \\\n",
       "0       2500.0  funded  2900454.0       NaN  ...        30.0   \n",
       "1       1250.0  funded   621951.0       NaN  ...        26.0   \n",
       "2       1000.0  funded   704953.0       NaN  ...        20.0   \n",
       "3       2000.0  funded  1604084.0       NaN  ...        14.0   \n",
       "4        525.0  funded   585526.0       NaN  ...         6.0   \n",
       "\n",
       "  NUM_LENDERS_TOTAL NUM_JOURNAL_ENTRIES NUM_BULK_ENTRIES  \\\n",
       "0                81                   1                1   \n",
       "1                38                   3                2   \n",
       "2                35                   1                1   \n",
       "3                37                   2                1   \n",
       "4                11                   1                1   \n",
       "\n",
       "                                                TAGS BORROWER_NAMES  \\\n",
       "0  #Biz Durable Asset, #Single, user_favorite, #S...         Manvel   \n",
       "1                                                NaN   Jargalsaihan   \n",
       "2                                                NaN         SERGIO   \n",
       "3                                      user_favorite          Ahmad   \n",
       "4                                                NaN       Patricia   \n",
       "\n",
       "  BORROWER_GENDERS  BORROWER_PICTURED REPAYMENT_INTERVAL  DISTRIBUTION_MODEL  \n",
       "0             male               true          irregular       field_partner  \n",
       "1             male               true            monthly       field_partner  \n",
       "2             male               true            monthly       field_partner  \n",
       "3             male               true            monthly       field_partner  \n",
       "4           female               true            monthly       field_partner  \n",
       "\n",
       "[5 rows x 34 columns]"
      ]
     },
     "execution_count": 18,
     "metadata": {},
     "output_type": "execute_result"
    }
   ],
   "source": [
    "loans['STATUS'] = loans['STATUS'].str.replace('refunded', 'notfunded')\n",
    "loans['STATUS'] = loans['STATUS'].str.replace('expired', 'notfunded')\n",
    "loans['STATUS'].unique()\n",
    "loans.head()"
   ]
  },
  {
   "cell_type": "markdown",
   "metadata": {},
   "source": [
    "## Outliers\n",
    "7. Examine the variable 'LOAN_AMOUNT'. <br>\n",
    "1) Check the distribution. What is the value of outliers if we use 3*IQR to define? <br>\n",
    "2) Remove the outliers. <br>\n",
    "3) Create a new variable by taking log of this variable."
   ]
  },
  {
   "cell_type": "code",
   "execution_count": 55,
   "metadata": {},
   "outputs": [
    {
     "data": {
      "text/plain": [
       "count    20795.000000\n",
       "mean       820.381101\n",
       "std       1207.663272\n",
       "min         25.000000\n",
       "25%        275.000000\n",
       "50%        500.000000\n",
       "75%        975.000000\n",
       "max      75000.000000\n",
       "Name: LOAN_AMOUNT, dtype: float64"
      ]
     },
     "execution_count": 55,
     "metadata": {},
     "output_type": "execute_result"
    }
   ],
   "source": [
    "loans['LOAN_AMOUNT'].describe()"
   ]
  },
  {
   "cell_type": "code",
   "execution_count": 59,
   "metadata": {},
   "outputs": [],
   "source": [
    "loans = loans[loans['LOAN_AMOUNT']<=3075]"
   ]
  },
  {
   "cell_type": "code",
   "execution_count": 60,
   "metadata": {},
   "outputs": [],
   "source": [
    "loans['logAmount'] = np.log(loans['LOAN_AMOUNT'])"
   ]
  },
  {
   "cell_type": "markdown",
   "metadata": {},
   "source": [
    "## Missing Value\n",
    "8. Observe the missing value results from Q3. What is the outcome for variables 'COUNTRY_CODE' and 'COUNTRY_NAME'. What would you do? Do it."
   ]
  },
  {
   "cell_type": "code",
   "execution_count": 19,
   "metadata": {},
   "outputs": [],
   "source": [
    "loans.drop('COUNTRY_CODE', axis = 1, inplace = True)"
   ]
  },
  {
   "cell_type": "markdown",
   "metadata": {},
   "source": [
    "9. Find the number of missing values in variables 'IMAGE_ID', 'VIDEO_ID' and 'LOAN_USE'. What would you do? Do it."
   ]
  },
  {
   "cell_type": "code",
   "execution_count": 62,
   "metadata": {},
   "outputs": [],
   "source": [
    "loans.drop('VIDEO_ID', axis = 1, inplace = True)"
   ]
  },
  {
   "cell_type": "code",
   "execution_count": 20,
   "metadata": {},
   "outputs": [
    {
     "data": {
      "text/plain": [
       "array([1, 0], dtype=int64)"
      ]
     },
     "execution_count": 20,
     "metadata": {},
     "output_type": "execute_result"
    }
   ],
   "source": [
    "loans['IMAGE_ID'] = loans['IMAGE_ID'].apply(lambda x: 1 if x>0 else 0)\n",
    "loans['IMAGE_ID'].unique()"
   ]
  },
  {
   "cell_type": "code",
   "execution_count": 22,
   "metadata": {},
   "outputs": [
    {
     "data": {
      "text/plain": [
       "array(['to purchase forage and agricultural machinery and to hire a worker for the farm.',\n",
       "       'To purchase spare parts for his car, and coal for resale',\n",
       "       'To buy floor tiles, cement and sand', ...,\n",
       "       'to buy additional e-load to sell for her business',\n",
       "       'to buy food products, such as dairy products, beef, cold cuts, chicken, condiments, basic grains, soft drinks, corn flour and butter.',\n",
       "       'to buy materials such as PVC pipe, cement, and metal pipe.'],\n",
       "      dtype=object)"
      ]
     },
     "execution_count": 22,
     "metadata": {},
     "output_type": "execute_result"
    },
    {
     "data": {
      "text/plain": [
       "17391"
      ]
     },
     "execution_count": 22,
     "metadata": {},
     "output_type": "execute_result"
    }
   ],
   "source": [
    "loans['LOAN_USE'].unique()\n",
    "len(loans['LOAN_USE'].unique())\n",
    "loans.drop('LOAN_USE', axis = 1, inplace = True)"
   ]
  },
  {
   "cell_type": "markdown",
   "metadata": {},
   "source": [
    "## Creating a new variable\n",
    "10. Create a new variable 'TIME_LENGTH' that is the difference between 'POSTED_TIME' and 'RAISED_TIME'."
   ]
  },
  {
   "cell_type": "code",
   "execution_count": 25,
   "metadata": {},
   "outputs": [],
   "source": [
    "loans['RAISED_TIME'] = pd.to_datetime(loans['RAISED_TIME'])"
   ]
  },
  {
   "cell_type": "code",
   "execution_count": 26,
   "metadata": {},
   "outputs": [],
   "source": [
    "loans['POSTED_TIME'] = pd.to_datetime(loans['POSTED_TIME'])"
   ]
  },
  {
   "cell_type": "code",
   "execution_count": 27,
   "metadata": {},
   "outputs": [],
   "source": [
    "# creating new column 'TIME_LENGTH' that is the difference between 'POSTED_TIME' and 'RAISED_TIME'\n",
    "loans['TIME_LENGTH'] = loans['RAISED_TIME'] - loans['POSTED_TIME']"
   ]
  },
  {
   "cell_type": "markdown",
   "metadata": {},
   "source": [
    "11. Find the different between 'POSTED_TIME' and 'DISBURSE_TIME'. Create a new variable 'PREDISBURSE' if the 'DISBURSE_TIME' is before 'POSTED_TIME'."
   ]
  },
  {
   "cell_type": "code",
   "execution_count": 28,
   "metadata": {},
   "outputs": [],
   "source": [
    "## creating new column 'PREDISBURSE' that is the difference between 'POSTED_TIME' and 'DISBURSE_TIME'\n",
    "loans['DISBURSE_TIME'] = pd.to_datetime(loans['DISBURSE_TIME'])"
   ]
  },
  {
   "cell_type": "code",
   "execution_count": 29,
   "metadata": {},
   "outputs": [
    {
     "data": {
      "text/plain": [
       "0    True\n",
       "1    True\n",
       "2    True\n",
       "3    True\n",
       "4    True\n",
       "Name: PREDISBURSE, dtype: bool"
      ]
     },
     "execution_count": 29,
     "metadata": {},
     "output_type": "execute_result"
    }
   ],
   "source": [
    "loans['PREDISBURSE'] = loans['DISBURSE_TIME']<loans['POSTED_TIME']\n",
    "loans['PREDISBURSE'].head()"
   ]
  },
  {
   "cell_type": "markdown",
   "metadata": {},
   "source": [
    "## Replace missing values\n",
    "12. Exame variable 'CURRENCY_EXCHANGE_COVERAGE_RATE'. How many unique values for this variable? How many missing?<br>\n",
    "Before we rush to replace missing values with mode, we ask the question: is the missing value actually missing or is it something else? We then read the policies on Kiva about exchange coverage. For instance, a lender gives 25 in US dollars and it changes to 250 in another currency. But when the money is repaid at 250 in the other currency, it only exchanges to 20 US dollars. The CURRENCY_EXCHANGE_COVERAGE_RATE measures how much such loss will be covered by the field partners. Some would cover 10% or 20%. So, it is more likely that the missing values indicating the loan does not have any coverage. So, it's more likely means 0.<br>\n",
    "Replace the missing value with 0."
   ]
  },
  {
   "cell_type": "code",
   "execution_count": 23,
   "metadata": {},
   "outputs": [
    {
     "data": {
      "text/plain": [
       "array([0.1, 0.2, nan, 0. ])"
      ]
     },
     "execution_count": 23,
     "metadata": {},
     "output_type": "execute_result"
    }
   ],
   "source": [
    "loans['CURRENCY_EXCHANGE_COVERAGE_RATE'].unique()\n",
    "\n",
    "#replace missing value with a 0\n",
    "loans['CURRENCY_EXCHANGE_COVERAGE_RATE'].fillna(0, inplace = True)"
   ]
  },
  {
   "cell_type": "markdown",
   "metadata": {},
   "source": [
    "13. Take a look at the data after we have done the 12 steps above. We will continue the preparation. \n",
    "Check the unique values of 'ACTIVITY_NAME' and 'SECTOR_NAME'. You may notice that there are many more activities than sectors and Sector is higher-level categorization of loans. We can choose one of them. To keep the results easier to read. We can keep sector name.\n",
    "'LOAN_NAME' seems irrelevant to whether a loan is funded. We have not learned how to process 'DESCRIPTION' and 'DESCRIPTION_TRANSLATED'. 'FUNDED_AMOUNT' is the amount that actually raised at the end. Most times it is the same as 'LOAN_AMOUNT'.  After doing similar analysis with every variable, we decide to keep only the following variables in the final analysis: <br>\n",
    "LOAN_ID<br>\n",
    "ORIGINAL_LANGUAGE<br>\n",
    "LOAN_AMOUNT (and the logAmount variable we created)<br>\n",
    "STATUS<br>\n",
    "IMAGE_ID (the one we coded to 0/1)<br>\n",
    "SECTOR_NAME                              \n",
    "COUNTRY_NAME                             \n",
    "CURRENCY_POLICY                          \n",
    "CURRENCY_EXCHANGE_COVERAGE_RATE (the one we tranfromed)<br>\n",
    "POSTED_TIME  (and the TIME_LENGTH we created)<br>\n",
    "DISBURSE_TIME (and the PREDISBURSE we created)<br>\n",
    "RAISED_TIME                        \n",
    "LENDER_TERM                   \n",
    "NUM_JOURNAL_ENTRIES  \n",
    "NUM_BULK_ENTRIES     \n",
    "REPAYMENT_INTERVAL  \n",
    "DISTRIBUTION_MODEL "
   ]
  },
  {
   "cell_type": "markdown",
   "metadata": {},
   "source": [
    "Create a copy of the dataset that only contains the variables listed above. You may use the list of variable names to slice the dataframe we have from Step 12 in Assignment 8&9."
   ]
  },
  {
   "cell_type": "code",
   "execution_count": 30,
   "metadata": {},
   "outputs": [
    {
     "data": {
      "text/html": [
       "<div>\n",
       "<style scoped>\n",
       "    .dataframe tbody tr th:only-of-type {\n",
       "        vertical-align: middle;\n",
       "    }\n",
       "\n",
       "    .dataframe tbody tr th {\n",
       "        vertical-align: top;\n",
       "    }\n",
       "\n",
       "    .dataframe thead th {\n",
       "        text-align: right;\n",
       "    }\n",
       "</style>\n",
       "<table border=\"1\" class=\"dataframe\">\n",
       "  <thead>\n",
       "    <tr style=\"text-align: right;\">\n",
       "      <th></th>\n",
       "      <th>LOAN_ID</th>\n",
       "      <th>ORIGINAL_LANGUAGE</th>\n",
       "      <th>LOAN_AMOUNT</th>\n",
       "      <th>STATUS</th>\n",
       "      <th>IMAGE_ID</th>\n",
       "      <th>SECTOR_NAME</th>\n",
       "      <th>COUNTRY_NAME</th>\n",
       "      <th>CURRENCY_POLICY</th>\n",
       "      <th>CURRENCY_EXCHANGE_COVERAGE_RATE</th>\n",
       "      <th>POSTED_TIME</th>\n",
       "      <th>DISBURSE_TIME</th>\n",
       "      <th>RAISED_TIME</th>\n",
       "      <th>LENDER_TERM</th>\n",
       "      <th>NUM_JOURNAL_ENTRIES</th>\n",
       "      <th>NUM_BULK_ENTRIES</th>\n",
       "      <th>TIME_LENGTH</th>\n",
       "      <th>REPAYMENT_INTERVAL</th>\n",
       "      <th>DISTRIBUTION_MODEL</th>\n",
       "    </tr>\n",
       "  </thead>\n",
       "  <tbody>\n",
       "    <tr>\n",
       "      <th>0</th>\n",
       "      <td>1570258</td>\n",
       "      <td>English</td>\n",
       "      <td>2500.0</td>\n",
       "      <td>funded</td>\n",
       "      <td>1</td>\n",
       "      <td>Agriculture</td>\n",
       "      <td>Armenia</td>\n",
       "      <td>shared</td>\n",
       "      <td>0.1</td>\n",
       "      <td>2018-07-18 07:55:36+00:00</td>\n",
       "      <td>2018-06-18 07:00:00+00:00</td>\n",
       "      <td>2018-08-19 06:35:27+00:00</td>\n",
       "      <td>30.0</td>\n",
       "      <td>1</td>\n",
       "      <td>1</td>\n",
       "      <td>31 days 22:39:51</td>\n",
       "      <td>irregular</td>\n",
       "      <td>field_partner</td>\n",
       "    </tr>\n",
       "    <tr>\n",
       "      <th>1</th>\n",
       "      <td>240272</td>\n",
       "      <td>English</td>\n",
       "      <td>1250.0</td>\n",
       "      <td>funded</td>\n",
       "      <td>1</td>\n",
       "      <td>Retail</td>\n",
       "      <td>Mongolia</td>\n",
       "      <td>shared</td>\n",
       "      <td>0.2</td>\n",
       "      <td>2010-10-19 01:32:27+00:00</td>\n",
       "      <td>2010-10-15 07:00:00+00:00</td>\n",
       "      <td>2010-10-20 18:18:48+00:00</td>\n",
       "      <td>26.0</td>\n",
       "      <td>3</td>\n",
       "      <td>2</td>\n",
       "      <td>1 days 16:46:21</td>\n",
       "      <td>monthly</td>\n",
       "      <td>field_partner</td>\n",
       "    </tr>\n",
       "    <tr>\n",
       "      <th>2</th>\n",
       "      <td>270125</td>\n",
       "      <td>Spanish</td>\n",
       "      <td>1000.0</td>\n",
       "      <td>funded</td>\n",
       "      <td>1</td>\n",
       "      <td>Construction</td>\n",
       "      <td>El Salvador</td>\n",
       "      <td>standard</td>\n",
       "      <td>0.0</td>\n",
       "      <td>2011-02-01 21:56:27+00:00</td>\n",
       "      <td>2011-01-21 08:00:00+00:00</td>\n",
       "      <td>2011-02-21 23:28:06+00:00</td>\n",
       "      <td>20.0</td>\n",
       "      <td>1</td>\n",
       "      <td>1</td>\n",
       "      <td>20 days 01:31:39</td>\n",
       "      <td>monthly</td>\n",
       "      <td>field_partner</td>\n",
       "    </tr>\n",
       "    <tr>\n",
       "      <th>3</th>\n",
       "      <td>709842</td>\n",
       "      <td>English</td>\n",
       "      <td>2000.0</td>\n",
       "      <td>funded</td>\n",
       "      <td>1</td>\n",
       "      <td>Services</td>\n",
       "      <td>Lebanon</td>\n",
       "      <td>standard</td>\n",
       "      <td>0.0</td>\n",
       "      <td>2014-05-14 10:50:35+00:00</td>\n",
       "      <td>2014-04-14 07:00:00+00:00</td>\n",
       "      <td>2014-05-18 05:39:10+00:00</td>\n",
       "      <td>14.0</td>\n",
       "      <td>2</td>\n",
       "      <td>1</td>\n",
       "      <td>3 days 18:48:35</td>\n",
       "      <td>monthly</td>\n",
       "      <td>field_partner</td>\n",
       "    </tr>\n",
       "    <tr>\n",
       "      <th>4</th>\n",
       "      <td>223631</td>\n",
       "      <td>English</td>\n",
       "      <td>525.0</td>\n",
       "      <td>funded</td>\n",
       "      <td>1</td>\n",
       "      <td>Services</td>\n",
       "      <td>Rwanda</td>\n",
       "      <td>shared</td>\n",
       "      <td>0.2</td>\n",
       "      <td>2010-08-17 16:31:32+00:00</td>\n",
       "      <td>2010-07-23 07:00:00+00:00</td>\n",
       "      <td>2010-08-19 20:49:40+00:00</td>\n",
       "      <td>6.0</td>\n",
       "      <td>1</td>\n",
       "      <td>1</td>\n",
       "      <td>2 days 04:18:08</td>\n",
       "      <td>monthly</td>\n",
       "      <td>field_partner</td>\n",
       "    </tr>\n",
       "  </tbody>\n",
       "</table>\n",
       "</div>"
      ],
      "text/plain": [
       "   LOAN_ID ORIGINAL_LANGUAGE  LOAN_AMOUNT  STATUS  IMAGE_ID   SECTOR_NAME  \\\n",
       "0  1570258           English       2500.0  funded         1   Agriculture   \n",
       "1   240272           English       1250.0  funded         1        Retail   \n",
       "2   270125           Spanish       1000.0  funded         1  Construction   \n",
       "3   709842           English       2000.0  funded         1      Services   \n",
       "4   223631           English        525.0  funded         1      Services   \n",
       "\n",
       "  COUNTRY_NAME CURRENCY_POLICY  CURRENCY_EXCHANGE_COVERAGE_RATE  \\\n",
       "0      Armenia          shared                              0.1   \n",
       "1     Mongolia          shared                              0.2   \n",
       "2  El Salvador        standard                              0.0   \n",
       "3      Lebanon        standard                              0.0   \n",
       "4       Rwanda          shared                              0.2   \n",
       "\n",
       "                POSTED_TIME             DISBURSE_TIME  \\\n",
       "0 2018-07-18 07:55:36+00:00 2018-06-18 07:00:00+00:00   \n",
       "1 2010-10-19 01:32:27+00:00 2010-10-15 07:00:00+00:00   \n",
       "2 2011-02-01 21:56:27+00:00 2011-01-21 08:00:00+00:00   \n",
       "3 2014-05-14 10:50:35+00:00 2014-04-14 07:00:00+00:00   \n",
       "4 2010-08-17 16:31:32+00:00 2010-07-23 07:00:00+00:00   \n",
       "\n",
       "                RAISED_TIME  LENDER_TERM  NUM_JOURNAL_ENTRIES  \\\n",
       "0 2018-08-19 06:35:27+00:00         30.0                    1   \n",
       "1 2010-10-20 18:18:48+00:00         26.0                    3   \n",
       "2 2011-02-21 23:28:06+00:00         20.0                    1   \n",
       "3 2014-05-18 05:39:10+00:00         14.0                    2   \n",
       "4 2010-08-19 20:49:40+00:00          6.0                    1   \n",
       "\n",
       "   NUM_BULK_ENTRIES      TIME_LENGTH REPAYMENT_INTERVAL DISTRIBUTION_MODEL  \n",
       "0                 1 31 days 22:39:51          irregular      field_partner  \n",
       "1                 2  1 days 16:46:21            monthly      field_partner  \n",
       "2                 1 20 days 01:31:39            monthly      field_partner  \n",
       "3                 1  3 days 18:48:35            monthly      field_partner  \n",
       "4                 1  2 days 04:18:08            monthly      field_partner  "
      ]
     },
     "execution_count": 30,
     "metadata": {},
     "output_type": "execute_result"
    }
   ],
   "source": [
    "variables = ['LOAN_ID', 'ORIGINAL_LANGUAGE', 'LOAN_AMOUNT', 'STATUS', 'IMAGE_ID','SECTOR_NAME', 'COUNTRY_NAME',\n",
    "                                'CURRENCY_POLICY', 'CURRENCY_EXCHANGE_COVERAGE_RATE', 'POSTED_TIME', 'DISBURSE_TIME', \n",
    "                                'RAISED_TIME','LENDER_TERM','NUM_JOURNAL_ENTRIES','NUM_BULK_ENTRIES', 'TIME_LENGTH', 'REPAYMENT_INTERVAL',\n",
    "                                'DISTRIBUTION_MODEL']\n",
    "loansAnalysis = loans[variables]\n",
    "loansAnalysis.head()"
   ]
  },
  {
   "cell_type": "markdown",
   "metadata": {},
   "source": [
    "## LOAN_AMOUNT VS. logAmount\n",
    "14. Next we start to explore the data. You need to import matplotlib. First, make two histograms for 'LOAN_AMOUNT' and 'logAMount'. How are they different?"
   ]
  },
  {
   "cell_type": "code",
   "execution_count": 80,
   "metadata": {},
   "outputs": [
    {
     "data": {
      "text/plain": [
       "(array([7035., 5703., 2616., 2314., 1029.,  436.,  369.,  192.,  204.,\n",
       "         221.]),\n",
       " array([  25.,  330.,  635.,  940., 1245., 1550., 1855., 2160., 2465.,\n",
       "        2770., 3075.]),\n",
       " <BarContainer object of 10 artists>)"
      ]
     },
     "execution_count": 80,
     "metadata": {},
     "output_type": "execute_result"
    },
    {
     "data": {
      "image/png": "[encoded data removed]",
      "text/plain": [
       "<Figure size 432x288 with 1 Axes>"
      ]
     },
     "metadata": {
      "needs_background": "light"
     },
     "output_type": "display_data"
    }
   ],
   "source": [
    "import matplotlib.pyplot as plt\n",
    "plt.hist(loans['LOAN_AMOUNT'])"
   ]
  },
  {
   "cell_type": "code",
   "execution_count": 81,
   "metadata": {},
   "outputs": [
    {
     "data": {
      "text/plain": [
       "(array([  18.,   84.,  581., 1273., 3532., 3639., 4643., 3414., 1997.,\n",
       "         938.]),\n",
       " array([3.21887582, 3.70009426, 4.1813127 , 4.66253113, 5.14374957,\n",
       "        5.624968  , 6.10618644, 6.58740487, 7.06862331, 7.54984174,\n",
       "        8.03106018]),\n",
       " <BarContainer object of 10 artists>)"
      ]
     },
     "execution_count": 81,
     "metadata": {},
     "output_type": "execute_result"
    },
    {
     "data": {
      "image/png": "[encoded data removed]",
      "text/plain": [
       "<Figure size 432x288 with 1 Axes>"
      ]
     },
     "metadata": {
      "needs_background": "light"
     },
     "output_type": "display_data"
    }
   ],
   "source": [
    "plt.hist(loans['logAmount'])\n",
    "#The skewed distribution of loan_amount has been smoothed out"
   ]
  },
  {
   "cell_type": "markdown",
   "metadata": {},
   "source": [
    "## Loan Amount by Sector\n",
    "\n",
    "15. What is the total loan amount in each sector? Create a bar chart to demonstrate."
   ]
  },
  {
   "cell_type": "code",
   "execution_count": 31,
   "metadata": {},
   "outputs": [
    {
     "data": {
      "text/plain": [
       "<Figure size 1440x504 with 0 Axes>"
      ]
     },
     "execution_count": 31,
     "metadata": {},
     "output_type": "execute_result"
    },
    {
     "data": {
      "text/plain": [
       "<BarContainer object of 15 artists>"
      ]
     },
     "execution_count": 31,
     "metadata": {},
     "output_type": "execute_result"
    },
    {
     "data": {
      "text/plain": [
       "Text(0.5, 1.0, 'SECTORS vs LOAN AMOUNT')"
      ]
     },
     "execution_count": 31,
     "metadata": {},
     "output_type": "execute_result"
    },
    {
     "data": {
      "text/plain": [
       "Text(0.5, 0, 'SECTORS')"
      ]
     },
     "execution_count": 31,
     "metadata": {},
     "output_type": "execute_result"
    },
    {
     "data": {
      "text/plain": [
       "Text(0, 0.5, 'LOAN AMOUNT')"
      ]
     },
     "execution_count": 31,
     "metadata": {},
     "output_type": "execute_result"
    },
    {
     "data": {
      "image/png": "[encoded data removed]",
      "text/plain": [
       "<Figure size 1440x504 with 1 Axes>"
      ]
     },
     "metadata": {
      "needs_background": "light"
     },
     "output_type": "display_data"
    }
   ],
   "source": [
    "sectors = loans.SECTOR_NAME.unique()\n",
    "sector_loan_amount = []\n",
    "for val in sectors:\n",
    "    sector_loan_amount.append(loans.groupby('SECTOR_NAME')['LOAN_AMOUNT'].sum()[val])\n",
    "\n",
    "plt.figure(figsize=(20,7))\n",
    "plt.bar(sectors, sector_loan_amount)\n",
    "plt.title('SECTORS vs LOAN AMOUNT')\n",
    "plt.xlabel('SECTORS')\n",
    "plt.ylabel('LOAN AMOUNT')\n",
    "plt.show()"
   ]
  },
  {
   "cell_type": "markdown",
   "metadata": {},
   "source": [
    "## Loan Amounty by Country\n",
    "16. What is the total number of loans in each country? Create a bar chart to demonstrate."
   ]
  },
  {
   "cell_type": "code",
   "execution_count": 96,
   "metadata": {},
   "outputs": [],
   "source": [
    "loansCountry = loansAnalysis.groupby('COUNTRY_NAME')['LOAN_ID'].count()"
   ]
  },
  {
   "cell_type": "code",
   "execution_count": 97,
   "metadata": {},
   "outputs": [
    {
     "data": {
      "text/plain": [
       "<AxesSubplot:xlabel='COUNTRY_NAME'>"
      ]
     },
     "execution_count": 97,
     "metadata": {},
     "output_type": "execute_result"
    },
    {
     "data": {
      "image/png": "[encoded data removed]",
      "text/plain": [
       "<Figure size 1080x864 with 1 Axes>"
      ]
     },
     "metadata": {
      "needs_background": "light"
     },
     "output_type": "display_data"
    }
   ],
   "source": [
    "loansCountry.plot(kind = 'bar', figsize = (15, 12))"
   ]
  },
  {
   "cell_type": "markdown",
   "metadata": {},
   "source": [
    "17. Change the POSTED_TIME to DateTimeIndex and create a new variable 'Year' using the year of POSTED_TIME. What is the total number of loans in each year? Create a line graph to demonstrate."
   ]
  },
  {
   "cell_type": "code",
   "execution_count": 32,
   "metadata": {},
   "outputs": [
    {
     "name": "stderr",
     "output_type": "stream",
     "text": [
      "<ipython-input-32-34d126ba1a80>:1: SettingWithCopyWarning: \n",
      "A value is trying to be set on a copy of a slice from a DataFrame.\n",
      "Try using .loc[row_indexer,col_indexer] = value instead\n",
      "\n",
      "See the caveats in the documentation: https://pandas.pydata.org/pandas-docs/stable/user_guide/indexing.html#returning-a-view-versus-a-copy\n",
      "  loansAnalysis['Year'] = pd.DatetimeIndex(loansAnalysis['POSTED_TIME']).year\n"
     ]
    },
    {
     "data": {
      "text/html": [
       "<div>\n",
       "<style scoped>\n",
       "    .dataframe tbody tr th:only-of-type {\n",
       "        vertical-align: middle;\n",
       "    }\n",
       "\n",
       "    .dataframe tbody tr th {\n",
       "        vertical-align: top;\n",
       "    }\n",
       "\n",
       "    .dataframe thead th {\n",
       "        text-align: right;\n",
       "    }\n",
       "</style>\n",
       "<table border=\"1\" class=\"dataframe\">\n",
       "  <thead>\n",
       "    <tr style=\"text-align: right;\">\n",
       "      <th></th>\n",
       "      <th>LOAN_ID</th>\n",
       "      <th>ORIGINAL_LANGUAGE</th>\n",
       "      <th>LOAN_AMOUNT</th>\n",
       "      <th>STATUS</th>\n",
       "      <th>IMAGE_ID</th>\n",
       "      <th>SECTOR_NAME</th>\n",
       "      <th>COUNTRY_NAME</th>\n",
       "      <th>CURRENCY_POLICY</th>\n",
       "      <th>CURRENCY_EXCHANGE_COVERAGE_RATE</th>\n",
       "      <th>POSTED_TIME</th>\n",
       "      <th>DISBURSE_TIME</th>\n",
       "      <th>RAISED_TIME</th>\n",
       "      <th>LENDER_TERM</th>\n",
       "      <th>NUM_JOURNAL_ENTRIES</th>\n",
       "      <th>NUM_BULK_ENTRIES</th>\n",
       "      <th>TIME_LENGTH</th>\n",
       "      <th>REPAYMENT_INTERVAL</th>\n",
       "      <th>DISTRIBUTION_MODEL</th>\n",
       "      <th>Year</th>\n",
       "    </tr>\n",
       "  </thead>\n",
       "  <tbody>\n",
       "    <tr>\n",
       "      <th>0</th>\n",
       "      <td>1570258</td>\n",
       "      <td>English</td>\n",
       "      <td>2500.0</td>\n",
       "      <td>funded</td>\n",
       "      <td>1</td>\n",
       "      <td>Agriculture</td>\n",
       "      <td>Armenia</td>\n",
       "      <td>shared</td>\n",
       "      <td>0.1</td>\n",
       "      <td>2018-07-18 07:55:36+00:00</td>\n",
       "      <td>2018-06-18 07:00:00+00:00</td>\n",
       "      <td>2018-08-19 06:35:27+00:00</td>\n",
       "      <td>30.0</td>\n",
       "      <td>1</td>\n",
       "      <td>1</td>\n",
       "      <td>31 days 22:39:51</td>\n",
       "      <td>irregular</td>\n",
       "      <td>field_partner</td>\n",
       "      <td>2018</td>\n",
       "    </tr>\n",
       "    <tr>\n",
       "      <th>1</th>\n",
       "      <td>240272</td>\n",
       "      <td>English</td>\n",
       "      <td>1250.0</td>\n",
       "      <td>funded</td>\n",
       "      <td>1</td>\n",
       "      <td>Retail</td>\n",
       "      <td>Mongolia</td>\n",
       "      <td>shared</td>\n",
       "      <td>0.2</td>\n",
       "      <td>2010-10-19 01:32:27+00:00</td>\n",
       "      <td>2010-10-15 07:00:00+00:00</td>\n",
       "      <td>2010-10-20 18:18:48+00:00</td>\n",
       "      <td>26.0</td>\n",
       "      <td>3</td>\n",
       "      <td>2</td>\n",
       "      <td>1 days 16:46:21</td>\n",
       "      <td>monthly</td>\n",
       "      <td>field_partner</td>\n",
       "      <td>2010</td>\n",
       "    </tr>\n",
       "    <tr>\n",
       "      <th>2</th>\n",
       "      <td>270125</td>\n",
       "      <td>Spanish</td>\n",
       "      <td>1000.0</td>\n",
       "      <td>funded</td>\n",
       "      <td>1</td>\n",
       "      <td>Construction</td>\n",
       "      <td>El Salvador</td>\n",
       "      <td>standard</td>\n",
       "      <td>0.0</td>\n",
       "      <td>2011-02-01 21:56:27+00:00</td>\n",
       "      <td>2011-01-21 08:00:00+00:00</td>\n",
       "      <td>2011-02-21 23:28:06+00:00</td>\n",
       "      <td>20.0</td>\n",
       "      <td>1</td>\n",
       "      <td>1</td>\n",
       "      <td>20 days 01:31:39</td>\n",
       "      <td>monthly</td>\n",
       "      <td>field_partner</td>\n",
       "      <td>2011</td>\n",
       "    </tr>\n",
       "    <tr>\n",
       "      <th>3</th>\n",
       "      <td>709842</td>\n",
       "      <td>English</td>\n",
       "      <td>2000.0</td>\n",
       "      <td>funded</td>\n",
       "      <td>1</td>\n",
       "      <td>Services</td>\n",
       "      <td>Lebanon</td>\n",
       "      <td>standard</td>\n",
       "      <td>0.0</td>\n",
       "      <td>2014-05-14 10:50:35+00:00</td>\n",
       "      <td>2014-04-14 07:00:00+00:00</td>\n",
       "      <td>2014-05-18 05:39:10+00:00</td>\n",
       "      <td>14.0</td>\n",
       "      <td>2</td>\n",
       "      <td>1</td>\n",
       "      <td>3 days 18:48:35</td>\n",
       "      <td>monthly</td>\n",
       "      <td>field_partner</td>\n",
       "      <td>2014</td>\n",
       "    </tr>\n",
       "    <tr>\n",
       "      <th>4</th>\n",
       "      <td>223631</td>\n",
       "      <td>English</td>\n",
       "      <td>525.0</td>\n",
       "      <td>funded</td>\n",
       "      <td>1</td>\n",
       "      <td>Services</td>\n",
       "      <td>Rwanda</td>\n",
       "      <td>shared</td>\n",
       "      <td>0.2</td>\n",
       "      <td>2010-08-17 16:31:32+00:00</td>\n",
       "      <td>2010-07-23 07:00:00+00:00</td>\n",
       "      <td>2010-08-19 20:49:40+00:00</td>\n",
       "      <td>6.0</td>\n",
       "      <td>1</td>\n",
       "      <td>1</td>\n",
       "      <td>2 days 04:18:08</td>\n",
       "      <td>monthly</td>\n",
       "      <td>field_partner</td>\n",
       "      <td>2010</td>\n",
       "    </tr>\n",
       "  </tbody>\n",
       "</table>\n",
       "</div>"
      ],
      "text/plain": [
       "   LOAN_ID ORIGINAL_LANGUAGE  LOAN_AMOUNT  STATUS  IMAGE_ID   SECTOR_NAME  \\\n",
       "0  1570258           English       2500.0  funded         1   Agriculture   \n",
       "1   240272           English       1250.0  funded         1        Retail   \n",
       "2   270125           Spanish       1000.0  funded         1  Construction   \n",
       "3   709842           English       2000.0  funded         1      Services   \n",
       "4   223631           English        525.0  funded         1      Services   \n",
       "\n",
       "  COUNTRY_NAME CURRENCY_POLICY  CURRENCY_EXCHANGE_COVERAGE_RATE  \\\n",
       "0      Armenia          shared                              0.1   \n",
       "1     Mongolia          shared                              0.2   \n",
       "2  El Salvador        standard                              0.0   \n",
       "3      Lebanon        standard                              0.0   \n",
       "4       Rwanda          shared                              0.2   \n",
       "\n",
       "                POSTED_TIME             DISBURSE_TIME  \\\n",
       "0 2018-07-18 07:55:36+00:00 2018-06-18 07:00:00+00:00   \n",
       "1 2010-10-19 01:32:27+00:00 2010-10-15 07:00:00+00:00   \n",
       "2 2011-02-01 21:56:27+00:00 2011-01-21 08:00:00+00:00   \n",
       "3 2014-05-14 10:50:35+00:00 2014-04-14 07:00:00+00:00   \n",
       "4 2010-08-17 16:31:32+00:00 2010-07-23 07:00:00+00:00   \n",
       "\n",
       "                RAISED_TIME  LENDER_TERM  NUM_JOURNAL_ENTRIES  \\\n",
       "0 2018-08-19 06:35:27+00:00         30.0                    1   \n",
       "1 2010-10-20 18:18:48+00:00         26.0                    3   \n",
       "2 2011-02-21 23:28:06+00:00         20.0                    1   \n",
       "3 2014-05-18 05:39:10+00:00         14.0                    2   \n",
       "4 2010-08-19 20:49:40+00:00          6.0                    1   \n",
       "\n",
       "   NUM_BULK_ENTRIES      TIME_LENGTH REPAYMENT_INTERVAL DISTRIBUTION_MODEL  \\\n",
       "0                 1 31 days 22:39:51          irregular      field_partner   \n",
       "1                 2  1 days 16:46:21            monthly      field_partner   \n",
       "2                 1 20 days 01:31:39            monthly      field_partner   \n",
       "3                 1  3 days 18:48:35            monthly      field_partner   \n",
       "4                 1  2 days 04:18:08            monthly      field_partner   \n",
       "\n",
       "   Year  \n",
       "0  2018  \n",
       "1  2010  \n",
       "2  2011  \n",
       "3  2014  \n",
       "4  2010  "
      ]
     },
     "execution_count": 32,
     "metadata": {},
     "output_type": "execute_result"
    }
   ],
   "source": [
    "loansAnalysis['Year'] = pd.DatetimeIndex(loansAnalysis['POSTED_TIME']).year\n",
    "loansAnalysis.head()"
   ]
  },
  {
   "cell_type": "code",
   "execution_count": 99,
   "metadata": {},
   "outputs": [],
   "source": [
    "yearAmount = loansAnalysis.groupby('Year')['LOAN_ID'].count()"
   ]
  },
  {
   "cell_type": "markdown",
   "metadata": {},
   "source": [
    "## Pivot Table \n",
    "18. Create a pivot table to show the average loan amount in each sector each year."
   ]
  },
  {
   "cell_type": "code",
   "execution_count": 102,
   "metadata": {},
   "outputs": [
    {
     "data": {
      "text/html": [
       "<div>\n",
       "<style scoped>\n",
       "    .dataframe tbody tr th:only-of-type {\n",
       "        vertical-align: middle;\n",
       "    }\n",
       "\n",
       "    .dataframe tbody tr th {\n",
       "        vertical-align: top;\n",
       "    }\n",
       "\n",
       "    .dataframe thead th {\n",
       "        text-align: right;\n",
       "    }\n",
       "</style>\n",
       "<table border=\"1\" class=\"dataframe\">\n",
       "  <thead>\n",
       "    <tr style=\"text-align: right;\">\n",
       "      <th>Year</th>\n",
       "      <th>2006</th>\n",
       "      <th>2007</th>\n",
       "      <th>2008</th>\n",
       "      <th>2009</th>\n",
       "      <th>2010</th>\n",
       "      <th>2011</th>\n",
       "      <th>2012</th>\n",
       "      <th>2013</th>\n",
       "      <th>2014</th>\n",
       "      <th>2015</th>\n",
       "      <th>2016</th>\n",
       "      <th>2017</th>\n",
       "      <th>2018</th>\n",
       "      <th>2019</th>\n",
       "      <th>2020</th>\n",
       "      <th>2021</th>\n",
       "    </tr>\n",
       "    <tr>\n",
       "      <th>SECTOR_NAME</th>\n",
       "      <th></th>\n",
       "      <th></th>\n",
       "      <th></th>\n",
       "      <th></th>\n",
       "      <th></th>\n",
       "      <th></th>\n",
       "      <th></th>\n",
       "      <th></th>\n",
       "      <th></th>\n",
       "      <th></th>\n",
       "      <th></th>\n",
       "      <th></th>\n",
       "      <th></th>\n",
       "      <th></th>\n",
       "      <th></th>\n",
       "      <th></th>\n",
       "    </tr>\n",
       "  </thead>\n",
       "  <tbody>\n",
       "    <tr>\n",
       "      <th>Agriculture</th>\n",
       "      <td>466.666667</td>\n",
       "      <td>663.461538</td>\n",
       "      <td>732.777778</td>\n",
       "      <td>750.493421</td>\n",
       "      <td>658.465608</td>\n",
       "      <td>713.104839</td>\n",
       "      <td>790.314570</td>\n",
       "      <td>806.804281</td>\n",
       "      <td>783.409611</td>\n",
       "      <td>674.462891</td>\n",
       "      <td>661.909449</td>\n",
       "      <td>667.521739</td>\n",
       "      <td>667.214533</td>\n",
       "      <td>660.568384</td>\n",
       "      <td>503.247863</td>\n",
       "      <td>493.373494</td>\n",
       "    </tr>\n",
       "    <tr>\n",
       "      <th>Arts</th>\n",
       "      <td>NaN</td>\n",
       "      <td>600.000000</td>\n",
       "      <td>678.571429</td>\n",
       "      <td>521.666667</td>\n",
       "      <td>706.578947</td>\n",
       "      <td>836.904762</td>\n",
       "      <td>740.625000</td>\n",
       "      <td>710.227273</td>\n",
       "      <td>820.000000</td>\n",
       "      <td>532.575758</td>\n",
       "      <td>648.611111</td>\n",
       "      <td>635.256410</td>\n",
       "      <td>690.625000</td>\n",
       "      <td>754.687500</td>\n",
       "      <td>708.333333</td>\n",
       "      <td>556.250000</td>\n",
       "    </tr>\n",
       "    <tr>\n",
       "      <th>Clothing</th>\n",
       "      <td>725.000000</td>\n",
       "      <td>794.047619</td>\n",
       "      <td>649.404762</td>\n",
       "      <td>675.000000</td>\n",
       "      <td>855.000000</td>\n",
       "      <td>867.857143</td>\n",
       "      <td>748.823529</td>\n",
       "      <td>702.556818</td>\n",
       "      <td>725.815217</td>\n",
       "      <td>770.333333</td>\n",
       "      <td>862.250000</td>\n",
       "      <td>857.368421</td>\n",
       "      <td>705.769231</td>\n",
       "      <td>745.786517</td>\n",
       "      <td>740.948276</td>\n",
       "      <td>745.588235</td>\n",
       "    </tr>\n",
       "    <tr>\n",
       "      <th>Construction</th>\n",
       "      <td>NaN</td>\n",
       "      <td>855.000000</td>\n",
       "      <td>786.250000</td>\n",
       "      <td>862.500000</td>\n",
       "      <td>726.785714</td>\n",
       "      <td>968.750000</td>\n",
       "      <td>837.500000</td>\n",
       "      <td>835.714286</td>\n",
       "      <td>868.750000</td>\n",
       "      <td>794.230769</td>\n",
       "      <td>817.857143</td>\n",
       "      <td>950.000000</td>\n",
       "      <td>737.931034</td>\n",
       "      <td>677.173913</td>\n",
       "      <td>975.000000</td>\n",
       "      <td>691.666667</td>\n",
       "    </tr>\n",
       "    <tr>\n",
       "      <th>Education</th>\n",
       "      <td>NaN</td>\n",
       "      <td>NaN</td>\n",
       "      <td>400.000000</td>\n",
       "      <td>533.333333</td>\n",
       "      <td>1158.333333</td>\n",
       "      <td>732.894737</td>\n",
       "      <td>795.238095</td>\n",
       "      <td>958.888889</td>\n",
       "      <td>709.638554</td>\n",
       "      <td>992.500000</td>\n",
       "      <td>761.197917</td>\n",
       "      <td>893.689320</td>\n",
       "      <td>837.500000</td>\n",
       "      <td>894.212963</td>\n",
       "      <td>720.833333</td>\n",
       "      <td>502.272727</td>\n",
       "    </tr>\n",
       "    <tr>\n",
       "      <th>Entertainment</th>\n",
       "      <td>NaN</td>\n",
       "      <td>NaN</td>\n",
       "      <td>1091.666667</td>\n",
       "      <td>NaN</td>\n",
       "      <td>1812.500000</td>\n",
       "      <td>725.000000</td>\n",
       "      <td>937.500000</td>\n",
       "      <td>800.000000</td>\n",
       "      <td>350.000000</td>\n",
       "      <td>1500.000000</td>\n",
       "      <td>1508.333333</td>\n",
       "      <td>637.500000</td>\n",
       "      <td>441.666667</td>\n",
       "      <td>875.000000</td>\n",
       "      <td>775.000000</td>\n",
       "      <td>NaN</td>\n",
       "    </tr>\n",
       "    <tr>\n",
       "      <th>Food</th>\n",
       "      <td>785.714286</td>\n",
       "      <td>523.546512</td>\n",
       "      <td>625.167785</td>\n",
       "      <td>595.474138</td>\n",
       "      <td>692.924528</td>\n",
       "      <td>670.146520</td>\n",
       "      <td>744.689542</td>\n",
       "      <td>703.211009</td>\n",
       "      <td>633.908840</td>\n",
       "      <td>595.263158</td>\n",
       "      <td>601.726343</td>\n",
       "      <td>569.268293</td>\n",
       "      <td>618.700397</td>\n",
       "      <td>650.716146</td>\n",
       "      <td>558.403955</td>\n",
       "      <td>603.985507</td>\n",
       "    </tr>\n",
       "    <tr>\n",
       "      <th>Health</th>\n",
       "      <td>1283.333333</td>\n",
       "      <td>675.000000</td>\n",
       "      <td>850.000000</td>\n",
       "      <td>515.000000</td>\n",
       "      <td>843.750000</td>\n",
       "      <td>1119.444444</td>\n",
       "      <td>908.333333</td>\n",
       "      <td>939.285714</td>\n",
       "      <td>1170.833333</td>\n",
       "      <td>965.000000</td>\n",
       "      <td>663.333333</td>\n",
       "      <td>769.354839</td>\n",
       "      <td>775.000000</td>\n",
       "      <td>766.847826</td>\n",
       "      <td>660.483871</td>\n",
       "      <td>387.500000</td>\n",
       "    </tr>\n",
       "    <tr>\n",
       "      <th>Housing</th>\n",
       "      <td>350.000000</td>\n",
       "      <td>575.000000</td>\n",
       "      <td>443.750000</td>\n",
       "      <td>617.105263</td>\n",
       "      <td>668.125000</td>\n",
       "      <td>902.419355</td>\n",
       "      <td>1003.333333</td>\n",
       "      <td>1034.126984</td>\n",
       "      <td>677.731092</td>\n",
       "      <td>724.679487</td>\n",
       "      <td>645.833333</td>\n",
       "      <td>526.351351</td>\n",
       "      <td>611.111111</td>\n",
       "      <td>376.900000</td>\n",
       "      <td>432.317073</td>\n",
       "      <td>468.181818</td>\n",
       "    </tr>\n",
       "    <tr>\n",
       "      <th>Manufacturing</th>\n",
       "      <td>NaN</td>\n",
       "      <td>733.333333</td>\n",
       "      <td>640.000000</td>\n",
       "      <td>1040.000000</td>\n",
       "      <td>875.000000</td>\n",
       "      <td>730.357143</td>\n",
       "      <td>841.176471</td>\n",
       "      <td>620.000000</td>\n",
       "      <td>729.166667</td>\n",
       "      <td>839.000000</td>\n",
       "      <td>587.500000</td>\n",
       "      <td>608.000000</td>\n",
       "      <td>560.227273</td>\n",
       "      <td>800.000000</td>\n",
       "      <td>646.153846</td>\n",
       "      <td>1000.000000</td>\n",
       "    </tr>\n",
       "    <tr>\n",
       "      <th>Personal Use</th>\n",
       "      <td>NaN</td>\n",
       "      <td>NaN</td>\n",
       "      <td>NaN</td>\n",
       "      <td>1000.000000</td>\n",
       "      <td>401.923077</td>\n",
       "      <td>911.538462</td>\n",
       "      <td>832.500000</td>\n",
       "      <td>923.484848</td>\n",
       "      <td>461.538462</td>\n",
       "      <td>421.220930</td>\n",
       "      <td>334.963768</td>\n",
       "      <td>282.656250</td>\n",
       "      <td>367.977528</td>\n",
       "      <td>301.859504</td>\n",
       "      <td>265.789474</td>\n",
       "      <td>148.529412</td>\n",
       "    </tr>\n",
       "    <tr>\n",
       "      <th>Retail</th>\n",
       "      <td>744.444444</td>\n",
       "      <td>636.818182</td>\n",
       "      <td>713.317757</td>\n",
       "      <td>699.313187</td>\n",
       "      <td>647.967480</td>\n",
       "      <td>743.273092</td>\n",
       "      <td>737.588028</td>\n",
       "      <td>675.566038</td>\n",
       "      <td>661.601796</td>\n",
       "      <td>587.431319</td>\n",
       "      <td>529.166667</td>\n",
       "      <td>613.008130</td>\n",
       "      <td>586.962751</td>\n",
       "      <td>598.458904</td>\n",
       "      <td>501.762821</td>\n",
       "      <td>428.246753</td>\n",
       "    </tr>\n",
       "    <tr>\n",
       "      <th>Services</th>\n",
       "      <td>500.000000</td>\n",
       "      <td>655.208333</td>\n",
       "      <td>649.019608</td>\n",
       "      <td>718.014706</td>\n",
       "      <td>829.477612</td>\n",
       "      <td>860.126582</td>\n",
       "      <td>878.160920</td>\n",
       "      <td>872.674419</td>\n",
       "      <td>876.106195</td>\n",
       "      <td>703.448276</td>\n",
       "      <td>659.055118</td>\n",
       "      <td>610.472973</td>\n",
       "      <td>716.860465</td>\n",
       "      <td>675.000000</td>\n",
       "      <td>724.671053</td>\n",
       "      <td>851.315789</td>\n",
       "    </tr>\n",
       "    <tr>\n",
       "      <th>Transportation</th>\n",
       "      <td>NaN</td>\n",
       "      <td>593.750000</td>\n",
       "      <td>803.846154</td>\n",
       "      <td>927.500000</td>\n",
       "      <td>782.758621</td>\n",
       "      <td>705.681818</td>\n",
       "      <td>639.062500</td>\n",
       "      <td>746.022727</td>\n",
       "      <td>674.305556</td>\n",
       "      <td>751.315789</td>\n",
       "      <td>562.500000</td>\n",
       "      <td>728.333333</td>\n",
       "      <td>577.551020</td>\n",
       "      <td>725.892857</td>\n",
       "      <td>623.214286</td>\n",
       "      <td>637.500000</td>\n",
       "    </tr>\n",
       "    <tr>\n",
       "      <th>Wholesale</th>\n",
       "      <td>NaN</td>\n",
       "      <td>NaN</td>\n",
       "      <td>1000.000000</td>\n",
       "      <td>400.000000</td>\n",
       "      <td>2525.000000</td>\n",
       "      <td>575.000000</td>\n",
       "      <td>NaN</td>\n",
       "      <td>458.333333</td>\n",
       "      <td>NaN</td>\n",
       "      <td>300.000000</td>\n",
       "      <td>925.000000</td>\n",
       "      <td>712.500000</td>\n",
       "      <td>912.500000</td>\n",
       "      <td>625.000000</td>\n",
       "      <td>1625.000000</td>\n",
       "      <td>1300.000000</td>\n",
       "    </tr>\n",
       "  </tbody>\n",
       "</table>\n",
       "</div>"
      ],
      "text/plain": [
       "Year                   2006        2007         2008         2009  \\\n",
       "SECTOR_NAME                                                         \n",
       "Agriculture      466.666667  663.461538   732.777778   750.493421   \n",
       "Arts                    NaN  600.000000   678.571429   521.666667   \n",
       "Clothing         725.000000  794.047619   649.404762   675.000000   \n",
       "Construction            NaN  855.000000   786.250000   862.500000   \n",
       "Education               NaN         NaN   400.000000   533.333333   \n",
       "Entertainment           NaN         NaN  1091.666667          NaN   \n",
       "Food             785.714286  523.546512   625.167785   595.474138   \n",
       "Health          1283.333333  675.000000   850.000000   515.000000   \n",
       "Housing          350.000000  575.000000   443.750000   617.105263   \n",
       "Manufacturing           NaN  733.333333   640.000000  1040.000000   \n",
       "Personal Use            NaN         NaN          NaN  1000.000000   \n",
       "Retail           744.444444  636.818182   713.317757   699.313187   \n",
       "Services         500.000000  655.208333   649.019608   718.014706   \n",
       "Transportation          NaN  593.750000   803.846154   927.500000   \n",
       "Wholesale               NaN         NaN  1000.000000   400.000000   \n",
       "\n",
       "Year                   2010         2011         2012         2013  \\\n",
       "SECTOR_NAME                                                          \n",
       "Agriculture      658.465608   713.104839   790.314570   806.804281   \n",
       "Arts             706.578947   836.904762   740.625000   710.227273   \n",
       "Clothing         855.000000   867.857143   748.823529   702.556818   \n",
       "Construction     726.785714   968.750000   837.500000   835.714286   \n",
       "Education       1158.333333   732.894737   795.238095   958.888889   \n",
       "Entertainment   1812.500000   725.000000   937.500000   800.000000   \n",
       "Food             692.924528   670.146520   744.689542   703.211009   \n",
       "Health           843.750000  1119.444444   908.333333   939.285714   \n",
       "Housing          668.125000   902.419355  1003.333333  1034.126984   \n",
       "Manufacturing    875.000000   730.357143   841.176471   620.000000   \n",
       "Personal Use     401.923077   911.538462   832.500000   923.484848   \n",
       "Retail           647.967480   743.273092   737.588028   675.566038   \n",
       "Services         829.477612   860.126582   878.160920   872.674419   \n",
       "Transportation   782.758621   705.681818   639.062500   746.022727   \n",
       "Wholesale       2525.000000   575.000000          NaN   458.333333   \n",
       "\n",
       "Year                   2014         2015         2016        2017        2018  \\\n",
       "SECTOR_NAME                                                                     \n",
       "Agriculture      783.409611   674.462891   661.909449  667.521739  667.214533   \n",
       "Arts             820.000000   532.575758   648.611111  635.256410  690.625000   \n",
       "Clothing         725.815217   770.333333   862.250000  857.368421  705.769231   \n",
       "Construction     868.750000   794.230769   817.857143  950.000000  737.931034   \n",
       "Education        709.638554   992.500000   761.197917  893.689320  837.500000   \n",
       "Entertainment    350.000000  1500.000000  1508.333333  637.500000  441.666667   \n",
       "Food             633.908840   595.263158   601.726343  569.268293  618.700397   \n",
       "Health          1170.833333   965.000000   663.333333  769.354839  775.000000   \n",
       "Housing          677.731092   724.679487   645.833333  526.351351  611.111111   \n",
       "Manufacturing    729.166667   839.000000   587.500000  608.000000  560.227273   \n",
       "Personal Use     461.538462   421.220930   334.963768  282.656250  367.977528   \n",
       "Retail           661.601796   587.431319   529.166667  613.008130  586.962751   \n",
       "Services         876.106195   703.448276   659.055118  610.472973  716.860465   \n",
       "Transportation   674.305556   751.315789   562.500000  728.333333  577.551020   \n",
       "Wholesale               NaN   300.000000   925.000000  712.500000  912.500000   \n",
       "\n",
       "Year                  2019         2020         2021  \n",
       "SECTOR_NAME                                           \n",
       "Agriculture     660.568384   503.247863   493.373494  \n",
       "Arts            754.687500   708.333333   556.250000  \n",
       "Clothing        745.786517   740.948276   745.588235  \n",
       "Construction    677.173913   975.000000   691.666667  \n",
       "Education       894.212963   720.833333   502.272727  \n",
       "Entertainment   875.000000   775.000000          NaN  \n",
       "Food            650.716146   558.403955   603.985507  \n",
       "Health          766.847826   660.483871   387.500000  \n",
       "Housing         376.900000   432.317073   468.181818  \n",
       "Manufacturing   800.000000   646.153846  1000.000000  \n",
       "Personal Use    301.859504   265.789474   148.529412  \n",
       "Retail          598.458904   501.762821   428.246753  \n",
       "Services        675.000000   724.671053   851.315789  \n",
       "Transportation  725.892857   623.214286   637.500000  \n",
       "Wholesale       625.000000  1625.000000  1300.000000  "
      ]
     },
     "execution_count": 102,
     "metadata": {},
     "output_type": "execute_result"
    }
   ],
   "source": [
    "loansAnalysis.pivot_table('LOAN_AMOUNT', index = 'SECTOR_NAME', columns = 'Year')\n"
   ]
  },
  {
   "cell_type": "markdown",
   "metadata": {},
   "source": [
    "## Scatterplot of LOAN_AMOUNT & LENDER_TERM\n",
    "\n",
    "19. Get the number of days in the TIME_LENGTH variable we created and create a new variable 'Days'using it. Create a scatterplot of 'LOAN_AMOUNT' and 'Days'. What's your observation?"
   ]
  },
  {
   "cell_type": "code",
   "execution_count": 106,
   "metadata": {},
   "outputs": [
    {
     "name": "stderr",
     "output_type": "stream",
     "text": [
      "<ipython-input-106-539e235570b2>:1: SettingWithCopyWarning: \n",
      "A value is trying to be set on a copy of a slice from a DataFrame.\n",
      "Try using .loc[row_indexer,col_indexer] = value instead\n",
      "\n",
      "See the caveats in the documentation: https://pandas.pydata.org/pandas-docs/stable/user_guide/indexing.html#returning-a-view-versus-a-copy\n",
      "  loansAnalysis['Days'] = loansAnalysis['TIME_LENGTH'].dt.days\n"
     ]
    }
   ],
   "source": [
    "loansAnalysis['Days'] = loansAnalysis['TIME_LENGTH'].dt.days"
   ]
  },
  {
   "cell_type": "markdown",
   "metadata": {},
   "source": [
    "20. Create a scatterplot of 'LOAN_AMOUNT' and 'LENDER_TERM'. What's your observation?"
   ]
  },
  {
   "cell_type": "code",
   "execution_count": 108,
   "metadata": {},
   "outputs": [
    {
     "data": {
      "text/plain": [
       "<Figure size 1080x864 with 0 Axes>"
      ]
     },
     "execution_count": 108,
     "metadata": {},
     "output_type": "execute_result"
    },
    {
     "data": {
      "text/plain": [
       "<matplotlib.collections.PathCollection at 0x238a40c2160>"
      ]
     },
     "execution_count": 108,
     "metadata": {},
     "output_type": "execute_result"
    },
    {
     "data": {
      "image/png": "[encoded data removed]",
      "text/plain": [
       "<Figure size 1080x864 with 1 Axes>"
      ]
     },
     "metadata": {
      "needs_background": "light"
     },
     "output_type": "display_data"
    }
   ],
   "source": [
    "plt.figure(figsize = (15, 12))\n",
    "plt.scatter(loansAnalysis['LENDER_TERM'], loansAnalysis['LOAN_AMOUNT'])"
   ]
  },
  {
   "cell_type": "markdown",
   "metadata": {},
   "source": [
    "## Model & Analysis\n",
    "\n",
    "21. Prepare the data for model analysis. The target variable is 'STATUS'. The predictor variables we want to include:<br>\n",
    "ORIGINAL_LANGUAGE<br>\n",
    "the logAmount variable we created<br>\n",
    "IMAGE_ID (the one we coded to 0/1)<br>\n",
    "SECTOR_NAME                              \n",
    "COUNTRY_NAME                             \n",
    "CURRENCY_POLICY                          \n",
    "CURRENCY_EXCHANGE_COVERAGE_RATE (the one we tranfromed)<br>\n",
    "Days we creatd based on the TIME_LENGTH <br>\n",
    "PREDISBURSE we created<br>\n",
    "LENDER_TERM                   \n",
    "NUM_JOURNAL_ENTRIES  \n",
    "NUM_BULK_ENTRIES     \n",
    "REPAYMENT_INTERVAL  \n",
    "DISTRIBUTION_MODEL<br>\n",
    "Now we can drop all records with missing values at this point."
   ]
  },
  {
   "cell_type": "code",
   "execution_count": 34,
   "metadata": {},
   "outputs": [],
   "source": [
    "# Drop all records with missing values\n",
    "loanAnalysis = loansAnalysis.dropna()"
   ]
  },
  {
   "cell_type": "code",
   "execution_count": null,
   "metadata": {},
   "outputs": [],
   "source": [
    "target = loansAnalysis['STATUS']\n",
    "features = ['ORIGINAL_LANGUAGE', 'logAmount', 'IMAGE_ID', 'SECTOR_NAME', 'COUNTRY_NAME', 'CURRENCY_POLICY',\n",
    "            'CURRENCY_EXCHANGE_COVERAGE_RATE', 'Days,', 'PREDISBURSE', 'LENDER_TERM', \n",
    "            'NUM_BULK_ENTRIES', 'REPAYMENT_INTERVAL', 'DISTRIBUTION_MODEL']\n",
    "X = loansAnalysis[features]"
   ]
  },
  {
   "cell_type": "markdown",
   "metadata": {},
   "source": [
    "22. Generate dummies for all categorical variables"
   ]
  },
  {
   "cell_type": "code",
   "execution_count": null,
   "metadata": {},
   "outputs": [],
   "source": [
    "X.head()\n",
    "cat_vars = ['ORIGINAL_LANGUAGE', 'SECTOR_NAME', 'COUNTRY_NAME', 'CURRENT_POLICY',\n",
    "           'PREDISBURSE', 'REPAYMENT_INTERVAL', 'DISTRIBUTION_MODEL']\n",
    "X = pd.get.dumies(X, colums=cat_vars, drop_first = True)"
   ]
  },
  {
   "cell_type": "code",
   "execution_count": null,
   "metadata": {},
   "outputs": [],
   "source": [
    "x.head()"
   ]
  },
  {
   "cell_type": "markdown",
   "metadata": {},
   "source": [
    "## Preparing datasets\n",
    "\n",
    "23. Prepare training and test datasets"
   ]
  },
  {
   "cell_type": "code",
   "execution_count": null,
   "metadata": {},
   "outputs": [],
   "source": [
    "from sklearn.model_selection import train_test_split\n",
    "X_train, X_test, y_train, y_test = train_test_split(X, target, test_size = 0.33, random_state = 1)"
   ]
  },
  {
   "cell_type": "markdown",
   "metadata": {},
   "source": [
    "## Regression Model\n",
    "\n",
    "24. Fit a logistic regression model."
   ]
  },
  {
   "cell_type": "code",
   "execution_count": null,
   "metadata": {},
   "outputs": [],
   "source": [
    "from sklearn.linear_model import LogisticRegression\n",
    "logRegressor = LogisticRegression()\n",
    "logRegressor.fit(X_train, y_train)"
   ]
  },
  {
   "cell_type": "markdown",
   "metadata": {},
   "source": [
    "25. Get the predicted results for the test dataset"
   ]
  },
  {
   "cell_type": "code",
   "execution_count": null,
   "metadata": {},
   "outputs": [],
   "source": [
    "y_pred = logRegressor.predict(X_test)\n",
    "y_pred[:10]"
   ]
  },
  {
   "cell_type": "markdown",
   "metadata": {},
   "source": [
    "26. Evaluate the model using accuracy rate and confusion matrix."
   ]
  },
  {
   "cell_type": "code",
   "execution_count": null,
   "metadata": {},
   "outputs": [],
   "source": [
    "from skilearn.metriics import accuracy_score\n",
    "accuracy_score(y_true = y_test, y_pred = y_pred)"
   ]
  },
  {
   "cell_type": "code",
   "execution_count": null,
   "metadata": {},
   "outputs": [],
   "source": [
    "from skilearn.metriics import confusion_matrix\n",
    "confusion_matrix(y_true = y_test, y_pred = y_pred)"
   ]
  },
  {
   "cell_type": "markdown",
   "metadata": {},
   "source": [
    "27. Repeat Step 24-26 using another classification method. Which method has better results?"
   ]
  },
  {
   "cell_type": "code",
   "execution_count": null,
   "metadata": {},
   "outputs": [],
   "source": [
    "from sklearn.tree import DecisionTreeClassifier\n",
    "model = DecisionTreeClassifier()\n",
    "model.fit(X_train,y_train)\n",
    "y_pred=model.predict(X_test)\n",
    "confusion_matrix = pd.crosstab(y_test, y_pred, rownames=['Actual'], colnames=['Predicted'])\n",
    "sn.heatmap(confusion_matrix, annot=True)\n",
    "print('Accuracy: ',metrics.accuracy_score(y_test, y_pred))\n",
    "plt.show()"
   ]
  },
  {
   "cell_type": "markdown",
   "metadata": {},
   "source": [
    "## Finding & Managerial Implications\n",
    "The LOAN_STATUS prediction above represents a clear classification problem as the loan condition must classify whether it is funded or not. Therefore, it can be solved using classification methods such as logistic regression, decision tree algorithm, random forest method. We implemented two of the logistic classification models and decision tree  models, and based on the results, the logistic regression model is best suited for training the model with maximum accuracy.\n",
    "\n",
    "## Conclusions\n",
    "\n",
    "Throughout the year, lending has played an important role in the financial world. Past research has used several machine learning techniques such as decision trees, neural networks, logistic regression, and vector machines. Each machine learning algorithm has been proven to be accurate and useful in a variety of settings. While creating a machine learning model, it is so important to preprocess the data regardless of the model type. In reality, it is  more important than the model itself, and  not all columns are consequently relevant. It also distorts the model, so pre-process and practice.\n",
    "\n",
    "## References\n",
    "\n",
    "“Loans That Change Lives.” Kiva, www.kiva.org/error.html?url=builddocs%2Fdata&status=404. Accessed 7 Dec. 2021.\n",
    "\n",
    "Small Business Trends LLC. “How to Get a Kiva Loan: A Step by Step Guide.” Small Business Trends, 21 Apr. 2020, smallbiztrends.com/2017/05/how-to-get-a-kiva-loan.html.\n"
   ]
  }
 ],
 "metadata": {
  "kernelspec": {
   "display_name": "Python 3",
   "language": "python",
   "name": "python3"
  },
  "language_info": {
   "codemirror_mode": {
    "name": "ipython",
    "version": 3
   },
   "file_extension": ".py",
   "mimetype": "text/x-python",
   "name": "python",
   "nbconvert_exporter": "python",
   "pygments_lexer": "ipython3",
   "version": "3.8.8"
  }
 },
 "nbformat": 4,
 "nbformat_minor": 2
}
