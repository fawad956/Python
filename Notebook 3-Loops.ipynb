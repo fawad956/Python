{
 "cells": [
  {
   "cell_type": "markdown",
   "metadata": {
    "collapsed": true
   },
   "source": [
    "# Programming for Business Analytics"
   ]
  },
  {
   "cell_type": "code",
   "execution_count": null,
   "metadata": {},
   "outputs": [],
   "source": [
    "# This code appears in every demonstration Notebook.\n",
    "# By default, when you run each cell, only the last output of the codes will show.\n",
    "# This code makes all outputs of a cell show.\n",
    "from IPython.core.interactiveshell import InteractiveShell\n",
    "InteractiveShell.ast_node_interactivity = \"all\""
   ]
  },
  {
   "cell_type": "markdown",
   "metadata": {},
   "source": [
    "## Flow control: Loops\n",
    "Computer programs can repeat instructions. This is one of the best features of computers; it frees us from repeating tedious work. Still use our example of auto-driving car, the computer takes over the tedious driving part: <br>\n",
    "\"As long as there is no traffic lights or other barriers, keep driving at 70m/h.\" <dr>\n",
    "Or there might be situations like this:\n",
    "\"Drive ahead for ten traffic lights.\"\n",
    "\n",
    "To interpret them into programming language, we use loop statements. There are two types of loop statements: while... and for...<br>\n",
    "\"while\" loops repeat instructions while the condition is satisfied. <br>\n",
    "\"for\" loops iterate a sequence and repeat instructions for each iteration.<br>"
   ]
  },
  {
   "cell_type": "markdown",
   "metadata": {},
   "source": [
    "General form of while loop is:<br>\n",
    "\n",
    "while (condition) {<br>\n",
    "    (expression)<br>\n",
    "    (expression)<br>\n",
    "       :    :<br>\n",
    "}<br>\n",
    "\n",
    "while loop repeats the expressions while the condition is satisfied."
   ]
  },
  {
   "cell_type": "code",
   "execution_count": null,
   "metadata": {},
   "outputs": [],
   "source": [
    "# Design a game of lottery\n",
    "# if the user enters a number is multiple of 3, a winner; otherwise, no; \n",
    "# The game continues until the user enters 0.\n",
    "# Questions: 1. What to repeat? 2. What is the condition to continue/stop?\n"
   ]
  },
  {
   "cell_type": "code",
   "execution_count": null,
   "metadata": {},
   "outputs": [],
   "source": [
    "# Sometimes the condition values might be constantly updated. At some point, the updated value will stop the loop.\n",
    "# For example, a program that prints out numbers from 0 to 50.\n",
    "# Questions: 1. what to repeat? 2. what is the condition to stop? 3. What needs to be updated?\n"
   ]
  },
  {
   "cell_type": "code",
   "execution_count": null,
   "metadata": {},
   "outputs": [],
   "source": [
    "# Another example\n",
    "# How to reverse a list using while loop? Input - [1, 2, 3, 4, 5]; Output - [5, 4, 3, 2, 1]\n"
   ]
  },
  {
   "cell_type": "markdown",
   "metadata": {},
   "source": [
    "### while True loops\n",
    "while True means that the condition is always satisfied. The loop continues forever unless there is a hard break (a break statement) from the loop. Sometimes it is simpler to use while True to specify repeating conditions."
   ]
  },
  {
   "cell_type": "code",
   "execution_count": null,
   "metadata": {},
   "outputs": [],
   "source": [
    "# For exmaple, we can use while True to ensure that the user enters only digits for ages.\n",
    "# Ask for the user input.\n",
    "# If it is digits-only, we can stop the loop;\n",
    "# If not, repeat asking for input.\n"
   ]
  },
  {
   "cell_type": "code",
   "execution_count": null,
   "metadata": {},
   "outputs": [],
   "source": []
  },
  {
   "cell_type": "markdown",
   "metadata": {},
   "source": [
    "### Practice\n",
    "We can further improve our sandwich shop the similar way: keep asking consumers to make the right choice until they get it right."
   ]
  },
  {
   "cell_type": "code",
   "execution_count": null,
   "metadata": {},
   "outputs": [],
   "source": [
    "# First, let's print a welcome message to tell what our program does.\n",
    "print(\"Welcome to our Sandwich shop. Please make your selection.\")\n",
    "\n",
    "# Second, the customer makes choices. The first choice is sandwich type. \n",
    "sandwichtype = input(\"'c' for cheese and 'v' for veggie\\n\")\n",
    "\n",
    "# That is the first layer conditionals. There are three cases: cheese, veggie and unexpected answers.\n",
    "if sandwichtype.lower() == 'c':\n",
    "    # The second layer conditionals is about cheese. Again, three cases: machego, cheddar and unexpected answers.\n",
    "    print(\"Please select your cheese:\\n\")\n",
    "    cheesetype = input(\"'m' for manchego and 'c' for cheddar\\n\")\n",
    "    if cheesetype.lower() == 'm':\n",
    "        print(\"Here is your manchego cheese sandwich.\")\n",
    "    elif cheesetype.lower() == 'c':\n",
    "        print(\"Here is your cheddar cheese sandwich.\")\n",
    "    else:\n",
    "        print(\"Sorry, we do not have this type of cheese.\")\n",
    "elif sandwichtype.lower() == 'v':\n",
    "    print(\"Here is your veggie sandwich. Thank you.\")\n",
    "else:\n",
    "    print(\"Sorry, we do not have this type of sandwich.\")\n"
   ]
  },
  {
   "cell_type": "code",
   "execution_count": null,
   "metadata": {},
   "outputs": [],
   "source": []
  },
  {
   "cell_type": "code",
   "execution_count": null,
   "metadata": {},
   "outputs": [],
   "source": [
    "# Now, can you apply this to the lottery game we just developed.\n",
    "# First check whether the input is all digits and then check for winning.\n"
   ]
  },
  {
   "cell_type": "code",
   "execution_count": null,
   "metadata": {},
   "outputs": [],
   "source": [
    "# Create a product list. Update the list with user input product names.\n",
    "# Allow entering product names until the user types in \"Done\".\n"
   ]
  },
  {
   "cell_type": "markdown",
   "metadata": {},
   "source": [
    "### for loop\n",
    "The best thing about for loop is that it can iterate any sequence. The sequence could be a range of numbers, a list , a string or any iterable objects."
   ]
  },
  {
   "cell_type": "code",
   "execution_count": null,
   "metadata": {},
   "outputs": [],
   "source": [
    "# Comparing to while loop over a counter, for loop has loop counter initialization, condition check, \n",
    "# and loop counter update sections together in one simple line.\n",
    "# for loop to print out number 0 to 50\n"
   ]
  },
  {
   "cell_type": "code",
   "execution_count": null,
   "metadata": {
    "scrolled": true
   },
   "outputs": [],
   "source": [
    "# range function can have three arguments, similar to slicing arguments: \n",
    "# starting point(included), ending point (not included), step\n"
   ]
  },
  {
   "cell_type": "code",
   "execution_count": null,
   "metadata": {
    "scrolled": true
   },
   "outputs": [],
   "source": [
    "# To loop through a string\n"
   ]
  },
  {
   "cell_type": "code",
   "execution_count": null,
   "metadata": {},
   "outputs": [],
   "source": [
    "# To loop through a list\n"
   ]
  },
  {
   "cell_type": "markdown",
   "metadata": {},
   "source": [
    "### Problem solving\n",
    "Let's try to solve a classical problem: to determine whether a number is a prime number.<br>\n",
    "\n",
    "A prime number is an integer which is greater than 1 and only divisible by 1 and itself.<br>\n",
    "\n",
    "For any given number n, how do we start?<br>\n",
    "\n",
    "First, we can exclude any number is less than 2.<br>\n",
    "Second, how do we check? Given the definition, we can check whether the number is divisible by 2, 3, 4, ..., n-1"
   ]
  },
  {
   "cell_type": "markdown",
   "metadata": {},
   "source": [
    "##### Pseudo code\n",
    "To write down the steps in words.\n",
    "1. Check whether it is less than 2\n",
    "    if yes, print out it is not a prime number\n",
    "    if no,\n",
    "        divide the number by numbers from 2, 3, 4, ..., n-1,\n",
    "            if divisible found,\n",
    "                print out it is not a prime number\n",
    "                end the loop\n",
    "            if no divisible found,\n",
    "                print out it is a prime number"
   ]
  },
  {
   "cell_type": "code",
   "execution_count": null,
   "metadata": {},
   "outputs": [],
   "source": []
  }
 ],
 "metadata": {
  "kernelspec": {
   "display_name": "Python 3",
   "language": "python",
   "name": "python3"
  },
  "language_info": {
   "codemirror_mode": {
    "name": "ipython",
    "version": 3
   },
   "file_extension": ".py",
   "mimetype": "text/x-python",
   "name": "python",
   "nbconvert_exporter": "python",
   "pygments_lexer": "ipython3",
   "version": "3.8.8"
  }
 },
 "nbformat": 4,
 "nbformat_minor": 2
}
